{
  "nbformat": 4,
  "nbformat_minor": 0,
  "metadata": {
    "colab": {
      "name": "OOP-Assignment-II.ipynb",
      "provenance": [],
      "collapsed_sections": [],
      "mount_file_id": "1_OuWm24oXFIpN-tAofOHSdESaCUwWvL3",
      "authorship_tag": "ABX9TyPnOOnIQKIRvQz8GbNx9/75",
      "include_colab_link": true
    },
    "kernelspec": {
      "name": "python3",
      "display_name": "Python 3"
    },
    "language_info": {
      "name": "python"
    }
  },
  "cells": [
    {
      "cell_type": "markdown",
      "metadata": {
        "id": "view-in-github",
        "colab_type": "text"
      },
      "source": [
        "<a href=\"https://colab.research.google.com/github/Soumyaranjan2021/OOP-Lab-Assignment-II/blob/main/OOP_Assignment_II.ipynb\" target=\"_parent\"><img src=\"https://colab.research.google.com/assets/colab-badge.svg\" alt=\"Open In Colab\"/></a>"
      ]
    },
    {
      "cell_type": "code",
      "metadata": {
        "colab": {
          "base_uri": "https://localhost:8080/"
        },
        "id": "00hTF2OlsQqA",
        "outputId": "bcc537ac-d771-4881-9210-faee68d47685"
      },
      "source": [
        "##Problem 1\n",
        "\n",
        "import numpy as np\n",
        "\n",
        "class Circle:\n",
        "  def __init__(self, Radius):\n",
        "    self.Radius = Radius\n",
        "  def Area(self):\n",
        "    return (np.pi * (self.Radius ** 2))\n",
        "  def Perimeter(self):\n",
        "    return (2 * np.pi * self.Radius)\n",
        "\n",
        "R = float(input(\"Radius : \"))\n",
        "c = Circle(R)\n",
        "print(\"Area of Circle of Radius {0}  : {1}\".format(R, c.Area()))\n",
        "print(\"Area of Circle of Radius {0}  : {1}\".format(R, c.Perimeter()))"
      ],
      "execution_count": null,
      "outputs": [
        {
          "output_type": "stream",
          "name": "stdout",
          "text": [
            "Radius : 2.5\n",
            "Area of Circle of Radius 2.5  : 19.634954084936208\n",
            "Area of Circle of Radius 2.5  : 15.707963267948966\n"
          ]
        }
      ]
    },
    {
      "cell_type": "code",
      "metadata": {
        "id": "iEw8lsePuhm_",
        "colab": {
          "base_uri": "https://localhost:8080/"
        },
        "outputId": "0695cb2f-274c-48f7-9935-bf0e9d5c8ccb"
      },
      "source": [
        "##Problem 2\n",
        "\n",
        "class Faculty:\n",
        "\n",
        "  def __init__(self):\n",
        "    self.Name = str(input(\"Employee Name : \"))\n",
        "    self.EmpID = str(input(\"Employee ID : \"))\n",
        "    self.Branch = str(input(\"Branch : \"))\n",
        "    self.Salary = float(input(\"Salary : \"))\n",
        "\n",
        "  def show(self):\n",
        "    print(\"\\nEmployee Details :\")\n",
        "    print(\"Employee Name : \", self.Name)\n",
        "    print(\"Employee ID : \", self.EmpID)\n",
        "    print(\"Branch : \", self.Branch)\n",
        "    print(\"Salary : \", self.Salary)\n",
        "    print(\"\\n\")\n",
        "    return\n",
        "\n",
        "N = int(input(\"Number of Employees : \"))\n",
        "for i in range(N):\n",
        "  F = Faculty()\n",
        "  F.show()"
      ],
      "execution_count": 3,
      "outputs": [
        {
          "output_type": "stream",
          "name": "stdout",
          "text": [
            "Number of Employees : 5\n",
            "Employee Name : Rahul Kant\n",
            "Employee ID : 20CS125\n",
            "Branch : CSE\n",
            "Salary : 50000\n",
            "\n",
            "Employee Details :\n",
            "Employee Name :  Rahul Kant\n",
            "Employee ID :  20CS125\n",
            "Branch :  CSE\n",
            "Salary :  50000.0\n",
            "\n",
            "\n",
            "Employee Name : Roshan Gupta\n",
            "Employee ID : 20CS120\n",
            "Branch : CSE\n",
            "Salary : 50000\n",
            "\n",
            "Employee Details :\n",
            "Employee Name :  Roshan Gupta\n",
            "Employee ID :  20CS120\n",
            "Branch :  CSE\n",
            "Salary :  50000.0\n",
            "\n",
            "\n",
            "Employee Name : Abhisek Aggarwal\n",
            "Employee ID : 20EC100\n",
            "Branch : ECE\n",
            "Salary : 50000\n",
            "\n",
            "Employee Details :\n",
            "Employee Name :  Abhisek Aggarwal\n",
            "Employee ID :  20EC100\n",
            "Branch :  ECE\n",
            "Salary :  50000.0\n",
            "\n",
            "\n",
            "Employee Name : Adarsh Saraf\n",
            "Employee ID : 19DS050\n",
            "Branch : DSAI\n",
            "Salary : 50000\n",
            "\n",
            "Employee Details :\n",
            "Employee Name :  Adarsh Saraf\n",
            "Employee ID :  19DS050\n",
            "Branch :  DSAI\n",
            "Salary :  50000.0\n",
            "\n",
            "\n",
            "Employee Name : Ramakant Kumar\n",
            "Employee ID : 19DS055\n",
            "Branch : DSAI\n",
            "Salary : 70000\n",
            "\n",
            "Employee Details :\n",
            "Employee Name :  Ramakant Kumar\n",
            "Employee ID :  19DS055\n",
            "Branch :  DSAI\n",
            "Salary :  70000.0\n",
            "\n",
            "\n"
          ]
        }
      ]
    },
    {
      "cell_type": "code",
      "metadata": {
        "id": "Uy1ymG3XxWqW",
        "colab": {
          "base_uri": "https://localhost:8080/"
        },
        "outputId": "8b31ae2e-67eb-4209-ee04-f97ee44ae642"
      },
      "source": [
        "##Problem 3\n",
        "\n",
        "class Account:\n",
        "  \n",
        "  def __init__(self):\n",
        "    self. AccNo = str(input(\"Account Number : \"))\n",
        "    self.AccHolder = str(input(\"Name : \"))\n",
        "    self.Amnt = 50000.00\n",
        "\n",
        "  def AccountDetails(self):\n",
        "    print(\"\\nAccount Details :\")\n",
        "    print(\"Account Number : \", self.AccNo)\n",
        "    print(\"Account Holder Name : \", self.AccHolder)\n",
        "    print(\"Account Balance : \", self.Amnt)\n",
        "  \n",
        "  def Deposit(self):\n",
        "    Amount = float(input(\"\\nEnter Amount for Deposit : \"))\n",
        "    self.Amnt += Amount\n",
        "    print(\"Account Balance : \", self.Amnt)\n",
        "  \n",
        "  def Withdraw(self):\n",
        "    Amount = float(input(\"\\nEnter Amount to Withdraw : \"))\n",
        "    if Amount <= self.Amnt:\n",
        "      self.Amnt -= Amount\n",
        "      print(\"Transaction Successful\")\n",
        "      print(\"Account Balance : \", self.Amnt)\n",
        "    else:\n",
        "      print(\"Insufficient Account Balance\")\n",
        "      print(\"Transaction Failed\")\n",
        "  \n",
        "  def chkBalance(self):\n",
        "    print(\"\\nAccount Balance : \", self.Amnt)\n",
        "\n",
        "acc = Account()\n",
        "acc.AccountDetails()\n",
        "acc.Deposit()\n",
        "acc.Withdraw()\n",
        "acc.chkBalance()"
      ],
      "execution_count": 6,
      "outputs": [
        {
          "output_type": "stream",
          "name": "stdout",
          "text": [
            "Account Number : 202109121655\n",
            "Name : Abhi Kumar\n",
            "\n",
            "Account Details :\n",
            "Account Number :  202109121655\n",
            "Account Holder Name :  Abhi Kumar\n",
            "Account Balance :  50000.0\n",
            "\n",
            "Enter Amount for Deposit : 20000\n",
            "Account Balance :  70000.0\n",
            "\n",
            "Enter Amount to Withdraw : 10000\n",
            "Transaction Successful\n",
            "Account Balance :  60000.0\n",
            "\n",
            "Account Balance :  60000.0\n"
          ]
        }
      ]
    },
    {
      "cell_type": "code",
      "metadata": {
        "id": "SIifB-HM0gkk",
        "colab": {
          "base_uri": "https://localhost:8080/"
        },
        "outputId": "a9b384de-50d3-490d-cec7-8c0025c706ec"
      },
      "source": [
        "##Problem 4\n",
        "\n",
        "class Student:\n",
        "\n",
        "  def __init__(self, Name, USN):\n",
        "    self.Name = Name\n",
        "    self.USN = USN\n",
        "    self.Marks = []\n",
        "\n",
        "  def Input(self):\n",
        "    N = int(input(\"Number of Subjects : \"))\n",
        "    for i in range(N):\n",
        "      self.Marks.append(float(input(\"Marks : \")))\n",
        "  \n",
        "  def Show(self):\n",
        "    print(\"\\nStudent Name : \", self.Name)\n",
        "    print(\"USN : \", self.USN)\n",
        "    for i in range(len(self.Marks)):\n",
        "      print(\"Marks in Subject {0} : {1}\".format(i + 1, self.Marks[i]))\n",
        "\n",
        "Name = str(input(\"Student Name : \"))\n",
        "USN = str(input(\"USN : \"))\n",
        "S = Student(Name, USN)\n",
        "S.Input()\n",
        "S.Show()"
      ],
      "execution_count": 9,
      "outputs": [
        {
          "output_type": "stream",
          "name": "stdout",
          "text": [
            "Student Name : Rohan Kumar\n",
            "USN : 21bcs120\n",
            "Number of Subjects : 3\n",
            "Marks : 45\n",
            "Marks : 42\n",
            "Marks : 40\n",
            "\n",
            "Student Name :  Rohan Kumar\n",
            "USN :  21bcs120\n",
            "Marks in Subject 1 : 45.0\n",
            "Marks in Subject 2 : 42.0\n",
            "Marks in Subject 3 : 40.0\n"
          ]
        }
      ]
    },
    {
      "cell_type": "code",
      "metadata": {
        "id": "qZKub7EZ4krK",
        "colab": {
          "base_uri": "https://localhost:8080/"
        },
        "outputId": "3bb4b5f4-7ed5-4a8e-d876-62a33cb8388c"
      },
      "source": [
        "##Problem 5\n",
        "\n",
        "class Hospital:\n",
        "\n",
        "  def __init__(self):\n",
        "    self.Patients = {}\n",
        "    self.Nt = 0\n",
        "\n",
        "  def Input(self):\n",
        "    N = int(input(\"Number of Patients : \"))\n",
        "    for i in range(N):\n",
        "      self.Nt += 1\n",
        "      Name = str(input(\"Patients Name : \"))\n",
        "      DateofAdmission = str(input(\"Date of Admission : \"))\n",
        "      Symptoms = []\n",
        "      S = int(input(\"Number of Symptoms : \"))\n",
        "      for i in range(S):\n",
        "        Symptoms.append(str(input(\"Symptom : \")))\n",
        "      OxygenLevel = float(input(\"Oxygen Level : \"))\n",
        "      DateofDischarge = str(input(\"Date of Discharge : \"))\n",
        "      self.Patients[Name] = {}\n",
        "      self.Patients[Name][\"Date of Admission\"] = DateofAdmission\n",
        "      self.Patients[Name][\"Symptoms\"] = Symptoms\n",
        "      self.Patients[Name][\"Oxygen Level\"] = OxygenLevel\n",
        "      self.Patients[Name][\"Date of Discharge\"] = DateofDischarge\n",
        "\n",
        "  def Status(self):\n",
        "    for Name in self.Patients:\n",
        "      if self.Patients[Name][\"Oxygen Level\"] < 90:\n",
        "        self.Patients[Name][\"Status\"] = \"Severe\"\n",
        "        print(\"{0} is on Oxygen Support\".format(Name))\n",
        "      else:\n",
        "        self.Patients[Name][\"Status\"] = \"Normal\"\n",
        "        print(\"{0} is on General Observation Ward\".format(Name))\n",
        "\n",
        "  def Requirement(self):\n",
        "    No = Nw = 0\n",
        "    for Name in self.Patients:\n",
        "      if self.Patients[Name][\"Oxygen Level\"] < 90:\n",
        "        No += 1\n",
        "      else:\n",
        "        Nw += 1\n",
        "    print(\"{0} Patients require Oxygen Support\".format(No))\n",
        "    print(\"{0} Patients are in General Ward\".format(Nw))\n",
        "    print(\"Total Patients : {0}\".format(self.Nt))\n",
        "  \n",
        "H = Hospital()\n",
        "H.Input()\n",
        "H.Status()\n",
        "H.Requirement()"
      ],
      "execution_count": 12,
      "outputs": [
        {
          "output_type": "stream",
          "name": "stdout",
          "text": [
            "Number of Patients : 2\n",
            "Patients Name : Mukesh\n",
            "Date of Admission : 05 / 08 / 2021\n",
            "Number of Symptoms : 2 \n",
            "Symptom : Cough\n",
            "Symptom : Fever\n",
            "Oxygen Level : 91\n",
            "Date of Discharge : 20 / 08 / 2021\n",
            "Patients Name : Gopal\n",
            "Date of Admission : 10 / 08 / 2021\n",
            "Number of Symptoms : 3\n",
            "Symptom : Fever\n",
            "Symptom : Cough\n",
            "Symptom : Chest Pain\n",
            "Oxygen Level : 87\n",
            "Date of Discharge : 25 / 08 / 2021\n",
            "Mukesh is on General Observation Ward\n",
            "Gopal is on Oxygen Support\n",
            "1 Patients require Oxygen Support\n",
            "1 Patients are in General Ward\n",
            "Total Patients : 2\n"
          ]
        }
      ]
    },
    {
      "cell_type": "code",
      "metadata": {
        "colab": {
          "base_uri": "https://localhost:8080/"
        },
        "id": "VrsHL52GdHZp",
        "outputId": "686ae222-0d63-4950-e2d6-85da54e44e1d"
      },
      "source": [
        "##Problem 6\n",
        "\n",
        "import datetime\n",
        "\n",
        "class Time:\n",
        "  def __init__(self):\n",
        "    self.hours = 0\n",
        "    self.minutes = 0\n",
        "    self.seconds = 0\n",
        "  \n",
        "  def __init__(self):\n",
        "    self.hours = int(datetime.datetime.now().hour)\n",
        "    self.minutes = int(datetime.datetime.now().minute)\n",
        "    self.seconds = int(datetime.datetime.now().second)\n",
        "  \n",
        "  def show(self):\n",
        "    print(\"Time in (hh:mm:ss) format : {0}:{1}:{2}\".format(self.hours, self.minutes, self.seconds))\n",
        "\n",
        "T = Time()\n",
        "T.show()"
      ],
      "execution_count": 13,
      "outputs": [
        {
          "output_type": "stream",
          "name": "stdout",
          "text": [
            "Time in (hh:mm:ss) format : 11:39:55\n"
          ]
        }
      ]
    },
    {
      "cell_type": "code",
      "metadata": {
        "colab": {
          "base_uri": "https://localhost:8080/"
        },
        "id": "_k3fTHmDdA4e",
        "outputId": "8a91bd16-5c2d-4c9c-a9c2-fa24d71fb681"
      },
      "source": [
        "##Problem 7\n",
        "\n",
        "class Student:\n",
        "  def __init__(self):\n",
        "    self.SData = {}\n",
        "  \n",
        "  def Input(self):\n",
        "    N = int(input(\"Number of Students : \"))\n",
        "    for i in range(N):\n",
        "      Name = str(input(\"Student Name : \"))\n",
        "      Age = int(input(\"Student Age : \"))\n",
        "      RollNo = str(input(\"Student Roll No : \"))\n",
        "      self.SData[i] = {}\n",
        "      self.SData[i][\"Name\"] = Name\n",
        "      self.SData[i][\"Age\"] = Age\n",
        "      self.SData[i][\"Roll No\"] = RollNo\n",
        "  \n",
        "  def Compare(self):\n",
        "    if self.SData[0][\"Age\"] == self.SData[1][\"Age\"]:\n",
        "      print(\"Both Student have equal Age\")\n",
        "    else:\n",
        "      print(\"Both Student have not equal Age\")\n",
        "\n",
        "S = Student()\n",
        "S.Input()\n",
        "S.Compare()"
      ],
      "execution_count": null,
      "outputs": [
        {
          "output_type": "stream",
          "name": "stdout",
          "text": [
            "Number of Students : 2\n",
            "Student Name : Rahul\n",
            "Student Age : 21\n",
            "Student Roll No : 33\n",
            "Student Name : Rohit\n",
            "Student Age : 22\n",
            "Student Roll No : 74\n",
            "Both Student have not equal Age\n"
          ]
        }
      ]
    },
    {
      "cell_type": "code",
      "metadata": {
        "id": "F4Ik1gW5e48i",
        "colab": {
          "base_uri": "https://localhost:8080/"
        },
        "outputId": "604f39e2-3189-4052-ecae-a539694511b9"
      },
      "source": [
        "##Problem 8\n",
        "\n",
        "class Student:\n",
        "  ##Class Variables\n",
        "  sem = 3\n",
        "  Inst = \"IIIT Dharwad\"\n",
        "  \n",
        "  def __init__(self, Name, USN):\n",
        "    ##Instance Variable\n",
        "    self.Name = Name\n",
        "    self.USN = USN\n",
        "  \n",
        "  def Show_1(self):\n",
        "    ##Printing Using Instance Method\n",
        "    print(\"Student Name : \", self.Name)\n",
        "    print(\"Student USN : \", self.USN)\n",
        "\n",
        "  @classmethod\n",
        "  def Show_2(cls):\n",
        "    print(\"Student Semester : \", cls.sem)\n",
        "    print(\"Student Institute : \", cls.Inst)\n",
        "  \n",
        "  @staticmethod\n",
        "  def Exp():\n",
        "    print(\"\\nExplanation About the calss :\\nIn python class is an user defined blueprint from which objects are created\\nThis is Student class to store Student Details.\")\n",
        "\n",
        "s = Student(\"Rohan\", \"56\")\n",
        "s.Show_1()\n",
        "Student.Show_2()\n",
        "s.Exp()"
      ],
      "execution_count": 17,
      "outputs": [
        {
          "output_type": "stream",
          "name": "stdout",
          "text": [
            "Student Name :  Rohan\n",
            "Student USN :  56\n",
            "Student Semester :  3\n",
            "Student Institute :  IIIT Dharwad\n",
            "\n",
            "Explanation About the calss :\n",
            "In python class is an user defined blueprint from which objects are created\n",
            "This is Student class to store Student Details.\n"
          ]
        }
      ]
    },
    {
      "cell_type": "code",
      "metadata": {
        "colab": {
          "base_uri": "https://localhost:8080/"
        },
        "id": "qjOtAmpupMMR",
        "outputId": "348990b8-4d2b-4a62-dbd6-8edff6f41e8b"
      },
      "source": [
        "##Problem 9\n",
        "\n",
        "class Student:\n",
        "  def __init__(self):\n",
        "    self.Name = str(input(\"Student Name : \"))\n",
        "    self.RollNo = str(input(\"Student RollNo : \"))\n",
        "    self.Sem = int(input(\"Semester : \"))\n",
        "\n",
        "  def Show(self):\n",
        "    print(\"Student Details\")\n",
        "    print(\"Student Name : \", self.Name)\n",
        "    print(\"Student RollNo : \", self.RollNo)\n",
        "    print(\"Semester : \", self.Sem)\n",
        "\n",
        "  class Laptop:\n",
        "    def __init__(self, CPU, RAM, HDD):\n",
        "      self.CPU = CPU\n",
        "      self.RAM = RAM\n",
        "      self.HDD = HDD\n",
        "    \n",
        "    def Show(self):\n",
        "      print(\"CPU : \", self.CPU)\n",
        "      print(\"RAM : \", self.RAM)\n",
        "      print(\"HDD : \", self.HDD)\n",
        "    \n",
        "  l1 = Laptop(\"Intel\", \"8 GB\", \"512 GB\")\n",
        "  l2 = Laptop(\"Ryzen\", \"16 GB\", \"1 TB\")\n",
        "  l1.Show()\n",
        "  l2.Show()\n",
        "\n",
        "S = Student()\n",
        "S.Show()"
      ],
      "execution_count": null,
      "outputs": [
        {
          "output_type": "stream",
          "name": "stdout",
          "text": [
            "CPU :  Intel\n",
            "RAM :  8 GB\n",
            "HDD :  512 GB\n",
            "CPU :  Ryzen\n",
            "RAM :  16 GB\n",
            "HDD :  1 TB\n",
            "Student Name : Roshan\n",
            "Student RollNo : 66\n",
            "Semester : 3\n",
            "Student Name :  Roshan\n",
            "Student RollNo :  66\n",
            "Semester :  3\n"
          ]
        }
      ]
    }
  ]
}